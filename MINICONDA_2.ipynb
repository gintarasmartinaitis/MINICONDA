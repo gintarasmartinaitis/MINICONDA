{
  "cells": [
    {
      "cell_type": "markdown",
      "metadata": {
        "id": "view-in-github",
        "colab_type": "text"
      },
      "source": [
        "<a href=\"https://colab.research.google.com/github/gintarasmartinaitis/MINICONDA/blob/main/MINICONDA_2.ipynb\" target=\"_parent\"><img src=\"https://colab.research.google.com/assets/colab-badge.svg\" alt=\"Open In Colab\"/></a>"
      ]
    },
    {
      "cell_type": "code",
      "execution_count": null,
      "metadata": {
        "id": "OSNVHLaWbJHB"
      },
      "outputs": [],
      "source": [
        " import sys\n",
        "\n",
        "CONDA=\"Miniconda3-latest-Linux-x86_64.sh\"\n",
        "\n",
        "################################################################################\n",
        "# INSTALL CONDA ON GOOGLE COLAB\n",
        "################################################################################\n",
        "!wget \"https://repo.continuum.io/miniconda\"/$CONDA -O ./$CONDA\n",
        "!chmod +x ./$CONDA\n",
        "!bash ./$CONDA -b -f -p /usr/local\n",
        "\n",
        "sys.path.append('/usr/local/lib/python3.7/site-packages/')"
      ]
    },
    {
      "cell_type": "code",
      "execution_count": null,
      "metadata": {
        "id": "eRxGbxE4-bum"
      },
      "outputs": [],
      "source": [
        "!conda info\n",
        "print( \"=======\\n=======\" )\n",
        "!source activate && conda info"
      ]
    },
    {
      "cell_type": "markdown",
      "source": [
        "!conda info && source activate && conda list && conda info\n",
        "=\n",
        "=\n",
        "%%bash\n",
        "conda info\n",
        "source activate\n",
        "conda list\n",
        "conda info"
      ],
      "metadata": {
        "id": "uUHlcrdGI5Bl"
      }
    },
    {
      "cell_type": "code",
      "execution_count": null,
      "metadata": {
        "id": "Ay5U4IL3iio2"
      },
      "outputs": [],
      "source": [
        "%%bash\n",
        "conda info\n",
        "echo -e \"=======\\n=======\"\n",
        "source activate\n",
        "conda info"
      ]
    },
    {
      "cell_type": "markdown",
      "source": [
        "Вывод последних двух кодовых ячеек иденьичен, проверено на googl colab"
      ],
      "metadata": {
        "id": "MJo93vxK9y4r"
      }
    }
  ],
  "metadata": {
    "colab": {
      "private_outputs": true,
      "provenance": [],
      "authorship_tag": "ABX9TyN9VAyzcK0j3Ffg+lW6Cfs0",
      "include_colab_link": true
    },
    "kernelspec": {
      "display_name": "Python 3",
      "name": "python3"
    },
    "language_info": {
      "name": "python"
    },
    "gpuClass": "standard"
  },
  "nbformat": 4,
  "nbformat_minor": 0
}